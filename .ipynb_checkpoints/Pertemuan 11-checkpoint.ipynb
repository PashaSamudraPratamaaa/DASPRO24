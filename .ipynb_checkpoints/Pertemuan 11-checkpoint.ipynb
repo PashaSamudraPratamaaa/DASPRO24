{
 "cells": [
  {
   "cell_type": "code",
   "execution_count": 25,
   "id": "05c543ea-de49-49d0-be70-012c5ab83077",
   "metadata": {},
   "outputs": [
    {
     "name": "stdout",
     "output_type": "stream",
     "text": [
      "Halo, Apa Kabar?\n",
      "Halo, Apa Kabar?\n"
     ]
    }
   ],
   "source": [
    "#Fungsi Tanpa Parameter\n",
    "\n",
    "def greeting ():\n",
    "    print (\"Halo, Apa Kabar?\")\n",
    "greeting (),\n",
    "greeting ()"
   ]
  },
  {
   "cell_type": "code",
   "execution_count": 47,
   "id": "673f0cb0-941a-4d5f-aa34-b96cf811dd2a",
   "metadata": {},
   "outputs": [
    {
     "name": "stdout",
     "output_type": "stream",
     "text": [
      "Sekarang Tanggal : 2025-05-27\n",
      "Sekarang Weekday\n",
      "1\n"
     ]
    }
   ],
   "source": [
    "import datetime\n",
    "def showDate ():\n",
    "    today = datetime.date.today()\n",
    "    print (f\"Sekarang Tanggal : {today}\")\n",
    "\n",
    "def isWeekend ():\n",
    "    today = datetime.date.today().weekday()\n",
    "    if today < 5 :\n",
    "        print (\"Sekarang Weekday\")\n",
    "    else :\n",
    "        print (\"Sekarang Weekend\")\n",
    "    print (today)\n",
    "\n",
    "showDate()\n",
    "isWeekend()"
   ]
  },
  {
   "cell_type": "code",
   "execution_count": 57,
   "id": "1cf393b7-6715-49cc-bf4d-7678fcf28ea7",
   "metadata": {},
   "outputs": [
    {
     "name": "stdout",
     "output_type": "stream",
     "text": [
      "Andi,Fahmi,Robi\n",
      "Andi,Fahmi,Robi, S.Kom\n"
     ]
    }
   ],
   "source": [
    "#Fungsi Dengan Parameter, Tidak Ada Return Value\n",
    "\n",
    "def getFullName (First,Middle,Last) :\n",
    "    print (f\"{First},{Middle},{Last}\")\n",
    "\n",
    "#Fungsi Dengan Parameter dan Return Value\n",
    "\n",
    "def getName (First,Middle,Last) :\n",
    "    return (f\"{First},{Middle},{Last}\")\n",
    "\n",
    "getFullName (\"Andi\", \"Fahmi\", \"Robi\")\n",
    "myname = getName (\"Andi\", \"Fahmi\", \"Robi\")\n",
    "title = \"S.Kom\"\n",
    "print (f\"{myname}, {title}\")"
   ]
  },
  {
   "cell_type": "code",
   "execution_count": 69,
   "id": "e058c6a9-1d05-4716-81c2-7e9c9cde3d3c",
   "metadata": {},
   "outputs": [
    {
     "name": "stdout",
     "output_type": "stream",
     "text": [
      "Hasil penjumlahan 5 dan 6 = 11\n",
      "Hasil perkalian 10 dan 6 = 60\n",
      "Hasil penjumlahan 11 dan 60 = 71\n"
     ]
    }
   ],
   "source": [
    "#Fungsi Aritmatika\n",
    "\n",
    "def add (num1,num2):\n",
    "    return num1 + num2 \n",
    "\n",
    "def multiply (num1, num2):\n",
    "    return num1 * num2\n",
    "\n",
    "r1 = add (5,6) #11\n",
    "r2 = multiply (10,6) #30\n",
    "r3 = add (r1,r2) #41\n",
    "\n",
    "print (f\"Hasil penjumlahan 5 dan 6 = {r1}\")\n",
    "print (f\"Hasil perkalian 10 dan 6 = {r2}\")\n",
    "print (f\"Hasil penjumlahan {r1} dan {r2} = {r3}\")"
   ]
  },
  {
   "cell_type": "code",
   "execution_count": 73,
   "id": "723a6277-13bd-4087-9202-70f168ac17d2",
   "metadata": {},
   "outputs": [
    {
     "name": "stdout",
     "output_type": "stream",
     "text": [
      "Hasil penjumlahan : 11\n",
      "Hasil perkalian : 30\n"
     ]
    }
   ],
   "source": [
    "#Fungsi Return Lebih dari satu\n",
    "\n",
    "def arithmatic (num1, num2):\n",
    "    add = num1 + num2\n",
    "    multiply = num1 * num2\n",
    "    return add,multiply\n",
    "\n",
    "tambah, kali = arithmatic (5,6)\n",
    "print (f\"Hasil penjumlahan : {tambah}\")\n",
    "print (f\"Hasil perkalian : {kali}\")"
   ]
  },
  {
   "cell_type": "code",
   "execution_count": 94,
   "id": "e6de27ef-36c8-43ca-8a33-2f0a40d4ef3e",
   "metadata": {},
   "outputs": [
    {
     "name": "stdout",
     "output_type": "stream",
     "text": [
      "Registration is Succesfull\n",
      "Username: ujang\n",
      "Password: 123456\n",
      "Email: Ujang@gmail.com\n",
      "Status: Belum Aktif\n",
      "\n",
      "Registration is Succesfull\n",
      "Username: ujang\n",
      "Password: 123456\n",
      "Email: Ujang@gmail.com\n",
      "Status: Aktif\n",
      "\n",
      "Registration Failed (Username Must Be More Than 3)\n",
      "Registration Failed (Password Must Be More Than 5)\n"
     ]
    }
   ],
   "source": [
    "#Fungsi dengan nilai default\n",
    "\n",
    "def UserRegistration (email, username, password, status = \"Belum Aktif\"):\n",
    "    result = \"\"\n",
    "    if(len(username)>3):\n",
    "        if(len(password)>5):\n",
    "            result += f\"Registration is Succesfull\\n\"\n",
    "            result += f\"Username: {username}\\n\"\n",
    "            result += f\"Password: {password}\\n\"\n",
    "            result += f\"Email: {email}\\n\"\n",
    "            result += f\"Status: {status}\\n\"\n",
    "            return result\n",
    "        else:\n",
    "            return \"Registration Failed (Password Must Be More Than 5)\"\n",
    "    else:\n",
    "            return \"Registration Failed (Username Must Be More Than 3)\"\n",
    "\n",
    "print (UserRegistration(\"Ujang@gmail.com\", \"ujang\", \"123456\"))\n",
    "print (UserRegistration(\"Ujang@gmail.com\", \"ujang\", \"123456\", \"Aktif\"))\n",
    "print (UserRegistration(\"Ujang@gmail.com\", \"uja\", \"123456\", \"Aktif\"))\n",
    "print (UserRegistration(\"Ujang@gmail.com\", \"ujang\", \"12345\", \"Aktif\"))"
   ]
  },
  {
   "cell_type": "code",
   "execution_count": 143,
   "id": "9f9bc0e9-a325-448b-949e-e2bfccb715d9",
   "metadata": {},
   "outputs": [
    {
     "ename": "NameError",
     "evalue": "name 'checkUsername' is not defined",
     "output_type": "error",
     "traceback": [
      "\u001b[1;31m---------------------------------------------------------------------------\u001b[0m",
      "\u001b[1;31mNameError\u001b[0m                                 Traceback (most recent call last)",
      "Cell \u001b[1;32mIn[143], line 21\u001b[0m\n\u001b[0;32m     18\u001b[0m     \u001b[38;5;28;01melse\u001b[39;00m:\n\u001b[0;32m     19\u001b[0m             \u001b[38;5;28;01mreturn\u001b[39;00m \u001b[38;5;124m\"\u001b[39m\u001b[38;5;124mRegistration Failed (Username Must Be More Than 3)\u001b[39m\u001b[38;5;124m\"\u001b[39m\n\u001b[1;32m---> 21\u001b[0m \u001b[38;5;28mprint\u001b[39m (UserRegistration(\u001b[38;5;124m\"\u001b[39m\u001b[38;5;124mUjang@gmail.com\u001b[39m\u001b[38;5;124m\"\u001b[39m, \u001b[38;5;124m\"\u001b[39m\u001b[38;5;124mujang\u001b[39m\u001b[38;5;124m\"\u001b[39m, \u001b[38;5;124m\"\u001b[39m\u001b[38;5;124m1234567\u001b[39m\u001b[38;5;124m\"\u001b[39m))\n\u001b[0;32m     22\u001b[0m \u001b[38;5;28mprint\u001b[39m (UserRegistration(\u001b[38;5;124m\"\u001b[39m\u001b[38;5;124mUjang@gmail.com\u001b[39m\u001b[38;5;124m\"\u001b[39m, \u001b[38;5;124m\"\u001b[39m\u001b[38;5;124mujang\u001b[39m\u001b[38;5;124m\"\u001b[39m, \u001b[38;5;124m\"\u001b[39m\u001b[38;5;124m1234567\u001b[39m\u001b[38;5;124m\"\u001b[39m, \u001b[38;5;124m\"\u001b[39m\u001b[38;5;124mAktif\u001b[39m\u001b[38;5;124m\"\u001b[39m))\n\u001b[0;32m     23\u001b[0m \u001b[38;5;28mprint\u001b[39m (UserRegistration(\u001b[38;5;124m\"\u001b[39m\u001b[38;5;124mUjang@gmail.com\u001b[39m\u001b[38;5;124m\"\u001b[39m, \u001b[38;5;124m\"\u001b[39m\u001b[38;5;124mujan\u001b[39m\u001b[38;5;124m\"\u001b[39m, \u001b[38;5;124m\"\u001b[39m\u001b[38;5;124m1234567\u001b[39m\u001b[38;5;124m\"\u001b[39m, \u001b[38;5;124m\"\u001b[39m\u001b[38;5;124mAktif\u001b[39m\u001b[38;5;124m\"\u001b[39m))\n",
      "Cell \u001b[1;32mIn[143], line 2\u001b[0m, in \u001b[0;36mUserRegistration\u001b[1;34m(email, username, password, status)\u001b[0m\n\u001b[0;32m      1\u001b[0m \u001b[38;5;28;01mdef\u001b[39;00m \u001b[38;5;21mUserRegistration\u001b[39m (email, username, password, status \u001b[38;5;241m=\u001b[39m \u001b[38;5;124m\"\u001b[39m\u001b[38;5;124mBelum Aktif\u001b[39m\u001b[38;5;124m\"\u001b[39m):\n\u001b[1;32m----> 2\u001b[0m     user \u001b[38;5;241m=\u001b[39m checkUsername(username)\n\u001b[0;32m      3\u001b[0m     pwd \u001b[38;5;241m=\u001b[39m chechkPassword (password)\n\u001b[0;32m      4\u001b[0m     result \u001b[38;5;241m=\u001b[39m \u001b[38;5;124m\"\u001b[39m\u001b[38;5;124m\"\u001b[39m\n",
      "\u001b[1;31mNameError\u001b[0m: name 'checkUsername' is not defined"
     ]
    }
   ],
   "source": [
    "def UserRegistration (email, username, password, status = \"Belum Aktif\"):\n",
    "    user = checkUsername(username)\n",
    "    pwd = chechkPassword (password)\n",
    "    result = \"\"\n",
    "    if(len(user)>0):\n",
    "        result +=user\n",
    "        if(len(pwd)>0):\n",
    "            result +=pwd\n",
    "        if(len(result) ==0):\n",
    "            result += f\"Registration is Succesfull\\n\"\n",
    "            result += f\"Username: {username}\\n\"\n",
    "            result += f\"Password: {password}\\n\"\n",
    "            result += f\"Email: {email}\\n\"\n",
    "            result += f\"Status: {status}\\n\"\n",
    "            return result\n",
    "        else:\n",
    "            return \"Registration Failed (Password Must Be More Than 5)\"\n",
    "    else:\n",
    "            return \"Registration Failed (Username Must Be More Than 3)\"\n",
    "\n",
    "print (UserRegistration(\"Ujang@gmail.com\", \"ujang\", \"1234567\"))\n",
    "print (UserRegistration(\"Ujang@gmail.com\", \"ujang\", \"1234567\", \"Aktif\"))\n",
    "print (UserRegistration(\"Ujang@gmail.com\", \"ujan\", \"1234567\", \"Aktif\"))\n",
    "print (UserRegistration(\"Ujang@gmail.com\", \"ujang\", \"123456\", \"Aktif\"))"
   ]
  },
  {
   "cell_type": "code",
   "execution_count": null,
   "id": "cd834233-2b0d-4ca5-8ad6-09b4f62ac1b8",
   "metadata": {},
   "outputs": [],
   "source": []
  }
 ],
 "metadata": {
  "kernelspec": {
   "display_name": "Python [conda env:base] *",
   "language": "python",
   "name": "conda-base-py"
  },
  "language_info": {
   "codemirror_mode": {
    "name": "ipython",
    "version": 3
   },
   "file_extension": ".py",
   "mimetype": "text/x-python",
   "name": "python",
   "nbconvert_exporter": "python",
   "pygments_lexer": "ipython3",
   "version": "3.12.7"
  }
 },
 "nbformat": 4,
 "nbformat_minor": 5
}
