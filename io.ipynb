{
 "cells": [
  {
   "cell_type": "code",
   "execution_count": 2,
   "id": "4205002e-47b1-4355-8cf4-fd44fb939925",
   "metadata": {},
   "outputs": [
    {
     "name": "stdin",
     "output_type": "stream",
     "text": [
      "Masukkan nama:  Pasha Samudra Pratama\n",
      "Masukkan umur:  20\n",
      "Masukkan alamat:  Jl. Cemerlang\n",
      "Masukkan jurusan:  Teknik Informatika\n"
     ]
    },
    {
     "name": "stdout",
     "output_type": "stream",
     "text": [
      "\n",
      "Biodata:\n",
      "Nama    : Pasha Samudra Pratama\n",
      "Umur    : 20\n",
      "Alamat  : Jl. Cemerlang\n",
      "Jurusan : Teknik Informatika\n",
      "\n"
     ]
    }
   ],
   "source": [
    "nama = input(\"Masukkan nama: \")\n",
    "umur = input(\"Masukkan umur: \")\n",
    "alamat = input(\"Masukkan alamat: \")\n",
    "jurusan = input(\"Masukkan jurusan: \")\n",
    "\n",
    "biodata = \"\"\"\n",
    "Biodata:\n",
    "Nama    : {}\n",
    "Umur    : {}\n",
    "Alamat  : {}\n",
    "Jurusan : {}\n",
    "\"\"\".format(nama, umur, alamat, jurusan)\n",
    "\n",
    "print(biodata)"
   ]
  },
  {
   "cell_type": "code",
   "execution_count": 4,
   "id": "29d5fb11-4c4d-48cc-a0fe-2cd43c9da9c6",
   "metadata": {},
   "outputs": [
    {
     "name": "stdout",
     "output_type": "stream",
     "text": [
      "a.putra nusa\n",
      "b.NIVERSITAS NSA PTRA SKABMI\n",
      "c.SUKABUMI PUTRA NUSA UNIVERSITAS\n",
      "d.UNPS\n",
      "e.TAS SAPU BUMI\n"
     ]
    }
   ],
   "source": [
    "text = \"UNIVERSITAS NUSA PUTRA SUKABUMI\"\n",
    "\n",
    "# a. putra nusa\n",
    "outputA = \" \".join(text.split()[2:0:-1]).lower()\n",
    "\n",
    "# b. NIVERSITAS NSA PTRA SKABMI\n",
    "outputB = text[1:].replace('U', '')\n",
    "\n",
    "# c. SUKABUMI PUTRA NUSA UNIVERSITAS\n",
    "outputC = \" \".join(reversed(text.split()))\n",
    "\n",
    "# d. UNPS (singkatan dari setiap kata)\n",
    "outputD = \"\".join([word[0] for word in text.split()])\n",
    "\n",
    "# e. TAS SAPU BUMI\n",
    "outputE = \" \".join([text.split()[0][-3:], text.split()[1][2:4] + text.split()[2][0:2], text.split()[3][-4:]])\n",
    "\n",
    "print(f\"a.{outputA}\")\n",
    "print(f\"b.{outputB}\")\n",
    "print(f\"c.{outputC}\")\n",
    "print(f\"d.{outputD}\")\n",
    "print(f\"e.{outputE}\")"
   ]
  },
  {
   "cell_type": "code",
   "execution_count": null,
   "id": "10f89d6c-3a08-4e5f-8a89-170d25c8f3cb",
   "metadata": {},
   "outputs": [],
   "source": []
  }
 ],
 "metadata": {
  "kernelspec": {
   "display_name": "Python [conda env:base] *",
   "language": "python",
   "name": "conda-base-py"
  },
  "language_info": {
   "codemirror_mode": {
    "name": "ipython",
    "version": 3
   },
   "file_extension": ".py",
   "mimetype": "text/x-python",
   "name": "python",
   "nbconvert_exporter": "python",
   "pygments_lexer": "ipython3",
   "version": "3.12.7"
  }
 },
 "nbformat": 4,
 "nbformat_minor": 5
}
