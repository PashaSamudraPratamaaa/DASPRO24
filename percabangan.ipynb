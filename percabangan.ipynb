{
 "cells": [
  {
   "cell_type": "code",
   "execution_count": 18,
   "id": "de2611f7-99b9-46df-b639-97784e0d2299",
   "metadata": {},
   "outputs": [
    {
     "name": "stdin",
     "output_type": "stream",
     "text": [
      "Masukkan Umur Anda: -9586734539798535\n"
     ]
    },
    {
     "name": "stdout",
     "output_type": "stream",
     "text": [
      "Kesalahan Berfikir\n"
     ]
    }
   ],
   "source": [
    "usia = int (input(\"Masukkan Umur Anda:\"))\n",
    "if usia >= 1 :\n",
    "    if usia <= 12:\n",
    "        print (\"Kategori: Anak\")\n",
    "    elif usia <= 17:\n",
    "        print (\"Kategori : Remaja\")\n",
    "    elif usia <= 59:\n",
    "        print (\"Kategori : Dewasa\")\n",
    "    else:\n",
    "        print (\"Kategori : Lansia\")\n",
    "else :\n",
    "    print (\"Kesalahan Berfikir\")"
   ]
  },
  {
   "cell_type": "code",
   "execution_count": 20,
   "id": "451bcdb0-b67c-4d91-9683-088b6a1499d5",
   "metadata": {},
   "outputs": [
    {
     "name": "stdin",
     "output_type": "stream",
     "text": [
      "Masukkan Umur Tiket 1:  12\n",
      "Masukkan Umur Tiket 2:  20\n",
      "Masukkan Umur Tiket 3:  55\n"
     ]
    },
    {
     "name": "stdout",
     "output_type": "stream",
     "text": [
      "Tiket 1 = 10.000\n",
      "Tiket 2 = 25.000\n",
      "Tiket 3 = 25.000\n",
      "Jadi total biaya yang diperlukan untuk tiket masuk adalah 60000\n"
     ]
    }
   ],
   "source": [
    "tiket1 = int(input(\"Masukkan Umur Tiket 1: \"))\n",
    "tiket2 = int(input(\"Masukkan Umur Tiket 2: \"))\n",
    "tiket3 = int(input(\"Masukkan Umur Tiket 3: \"))\n",
    "totalBiaya = 0\n",
    "\n",
    "if tiket1 >= 1 :\n",
    "    if tiket1 <= 12:\n",
    "        print (\"Tiket 1 = 10.000\")\n",
    "        totalBiaya = totalBiaya + 10000\n",
    "    elif tiket1 <= 17:\n",
    "        print (\"Tiket 1 = 15.000\")\n",
    "        totalBiaya = totalBiaya + 15000\n",
    "    elif tiket1 <= 59:\n",
    "        print (\"Tiket 1 = 25.000\")\n",
    "        totalBiaya = totalBiaya + 25000\n",
    "    else:\n",
    "        print (\"Tiket 1 = Gratis\")\n",
    "        totalBiaya = totalBiaya + 0\n",
    "else:\n",
    "    print (\"Kesalahan Berfikir\")\n",
    "\n",
    "if tiket2 >= 1 :\n",
    "    if tiket2 <= 12:\n",
    "        print (\"Tiket 2 = 10.000\")\n",
    "        totalBiaya = totalBiaya + 10000\n",
    "    elif tiket2 <= 17:\n",
    "        print (\"Tiket 2 = 15.000\")\n",
    "        totalBiaya = totalBiaya + 15000\n",
    "    elif tiket2 <= 59:\n",
    "        print (\"Tiket 2 = 25.000\")\n",
    "        totalBiaya = totalBiaya + 25000\n",
    "    else:\n",
    "        print (\"Tiket 2 = Gratis\")\n",
    "        totalBiaya = totalBiaya + 0\n",
    "else:\n",
    "    print (\"Kesalahan Berfikir\")\n",
    "\n",
    "if tiket3 >= 1 :\n",
    "    if tiket3 <= 12:\n",
    "        print (\"Tiket 3 = 10.000\")\n",
    "        totalBiaya = totalBiaya + 10000\n",
    "    elif tiket3 <= 17:\n",
    "        print (\"Tiket 3 = 15.000\")\n",
    "        totalBiaya = totalBiaya + 15000\n",
    "    elif tiket3 <= 59:\n",
    "        print (\"Tiket 3 = 25.000\")\n",
    "        totalBiaya = totalBiaya + 25000\n",
    "    else:\n",
    "        print (\"Tiket 3 = Gratis\")\n",
    "        totalBiaya = totalBiaya + 0\n",
    "else:\n",
    "    print (\"Kesalahan Berfikir\")\n",
    "\n",
    "print(f\"Jadi total biaya yang diperlukan untuk tiket masuk adalah {totalBiaya}\")"
   ]
  },
  {
   "cell_type": "code",
   "execution_count": null,
   "id": "038d567a-a9b6-40db-8192-988c4e5b3a10",
   "metadata": {},
   "outputs": [],
   "source": []
  }
 ],
 "metadata": {
  "kernelspec": {
   "display_name": "Python [conda env:base] *",
   "language": "python",
   "name": "conda-base-py"
  },
  "language_info": {
   "codemirror_mode": {
    "name": "ipython",
    "version": 3
   },
   "file_extension": ".py",
   "mimetype": "text/x-python",
   "name": "python",
   "nbconvert_exporter": "python",
   "pygments_lexer": "ipython3",
   "version": "3.12.7"
  }
 },
 "nbformat": 4,
 "nbformat_minor": 5
}
